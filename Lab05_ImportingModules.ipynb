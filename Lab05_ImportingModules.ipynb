{
 "cells": [
  {
   "cell_type": "markdown",
   "id": "806fd897-5b33-4d06-b5e2-8e0a59513e02",
   "metadata": {},
   "source": [
    "# Importing Modules\n",
    "\n",
    "Python comes with an extensive library of built-in modules that make it easy to accomplish everyday tasks. With just a few lines of code, you can do anything from generating random numbers and drawing graphics to sending emails and accessing websites.\n",
    "\n",
    "## Content Learning Objectives\n",
    "\n",
    "*After completing this activity, students should be able to:*\n",
    "* Use the ***random*** module to generate random float and integer sequences.\n",
    "\n",
    "## Process Skill Goals\n",
    "\n",
    "*During this activity, students should make progress toward:*\n",
    "\n",
    "* Navigating the Python standard library documentation. (Information Processing)"
   ]
  },
  {
   "cell_type": "markdown",
   "id": "628ba622-6a42-4ba1-a0fb-d2c150b6a166",
   "metadata": {},
   "source": [
    "# Part 1: Random Numbers\n",
    "\n",
    "You can generate a sequence of numbers using the Python ***random*** module. A mathematical function is used to produce the sequence based on a ***seed*** value. (If no seed is given, the current system time is used) The sequence is more accurately described as ***pseudorandom***, since its output is inherently predictable. \n",
    "\n",
    "In a Python Shell, run the code in the table and write the output."
   ]
  },
  {
   "cell_type": "markdown",
   "id": "78a5803a-fd73-4658-927f-bdccf963019d",
   "metadata": {},
   "source": [
    "|       Python Code        |     Shell Output     |\n",
    "|--------------------------|----------------------|\n",
    "|import randint            |                      |\n",
    "|import random             |                      |\n",
    "|randint(1,10)             |                      |\n",
    "|random.randint(1,10)      |                      |\n",
    "|from random import randint|                      |\n",
    "|randint(1,10)             |                      |\n",
    "|seed(100)                 |                      |\n",
    "|random.seed(100)          |                      |\n",
    "|random.random()           |                      |\n",
    "|random.random()           |                      |\n",
    "|random.seed(100)          |                      |\n",
    "|random.random()           |                      |\n",
    "|random.random()           |                      |"
   ]
  },
  {
   "cell_type": "markdown",
   "id": "c2723258-f7a1-4f92-84c8-710756e93c20",
   "metadata": {},
   "source": [
    "## "
   ]
  },
  {
   "cell_type": "markdown",
   "id": "ef59001b-00be-495f-935c-c593e00dbabc",
   "metadata": {},
   "source": [
    "Questions\n",
    "\n",
    "1) What is the name of the module that must be imported before generating a random number? "
   ]
  },
  {
   "cell_type": "markdown",
   "id": "d42d04ed-cf2b-46c7-b57d-348f91fcff12",
   "metadata": {},
   "source": [
    "random"
   ]
  },
  {
   "cell_type": "markdown",
   "id": "b355e062-3acf-40eb-8aa0-6c96ea3684ec",
   "metadata": {},
   "source": [
    "2) What are the names of the three functions defined in the ***random*** module?"
   ]
  },
  {
   "cell_type": "markdown",
   "id": "f91435f6-926a-4864-a760-3b761523650d",
   "metadata": {},
   "source": [
    "randint, random , seed"
   ]
  },
  {
   "cell_type": "markdown",
   "id": "df1fd598-af70-4a95-a900-7d9644e6f1b5",
   "metadata": {},
   "source": [
    "3) Identify the syntax of the statement to import:\n",
    "\n",
    "a) a module"
   ]
  },
  {
   "cell_type": "markdown",
   "id": "ba884670-f1cc-4567-94e0-b58d8660c4f2",
   "metadata": {},
   "source": [
    "import moduleName"
   ]
  },
  {
   "cell_type": "markdown",
   "id": "b83f5692-7474-471c-9afa-70ed8868923f",
   "metadata": {},
   "source": [
    "b) a function"
   ]
  },
  {
   "cell_type": "markdown",
   "id": "a20ff7c9-e0b8-428b-b29b-6cd90dc50bb6",
   "metadata": {},
   "source": [
    "from moduleName import functionName"
   ]
  },
  {
   "cell_type": "markdown",
   "id": "8bf505ed-edbd-4740-b256-241846918f3c",
   "metadata": {},
   "source": [
    "4) Identify the syntax of a function call assuming:\n",
    "\n",
    "a) the module was imported"
   ]
  },
  {
   "cell_type": "markdown",
   "id": "52661e1c-5caf-4d3b-99d5-e737815cabea",
   "metadata": {},
   "source": [
    "moduleName.function()"
   ]
  },
  {
   "cell_type": "markdown",
   "id": "487a14ae-55cf-4b30-860c-64a5357ceb0c",
   "metadata": {},
   "source": [
    "b) the function was imported"
   ]
  },
  {
   "cell_type": "markdown",
   "id": "0104029e-77ca-4939-9ad8-afb6f0873ffd",
   "metadata": {},
   "source": [
    "function()"
   ]
  },
  {
   "cell_type": "markdown",
   "id": "4ac50a49-cf6f-46be-afb2-b588ab8a7081",
   "metadata": {},
   "source": [
    "5) How could you eliminate the need for typing the word \"random\" twice (in a function call) to generate a random number?"
   ]
  },
  {
   "cell_type": "markdown",
   "id": "ea76d293-a890-4610-8dc9-545daef83a2d",
   "metadata": {},
   "source": [
    "from random import random \n",
    "\n",
    "import the fucntion from the module"
   ]
  },
  {
   "cell_type": "markdown",
   "id": "4dc3764b-9998-4d6a-88b4-fc6318bb66a1",
   "metadata": {},
   "source": [
    "6) What is the effect on the random numbers generated after calling the ***seed*** method?"
   ]
  },
  {
   "cell_type": "markdown",
   "id": "8fb57db9-bd3b-4287-beab-e445fbaf5530",
   "metadata": {},
   "source": [
    "psudeorandom output, same numbers in the same order"
   ]
  },
  {
   "cell_type": "markdown",
   "id": "e098afa5-6c1b-405a-92ab-7d39ef6138cd",
   "metadata": {},
   "source": [
    "7) Run ***random.random()*** multiple times. Based on the results, describe:\n",
    "\n",
    "a) the range of numbers returned by the ***random*** function"
   ]
  },
  {
   "cell_type": "markdown",
   "id": "24b03b6c-bbf4-4d5b-862d-df07160db7d0",
   "metadata": {},
   "source": [
    "from 0 to 1"
   ]
  },
  {
   "cell_type": "markdown",
   "id": "6beeb4dd-cd09-443d-8deb-a5cfeb65841f",
   "metadata": {},
   "source": [
    "b) the nature of the distribution generated. (Is the distribution clusted or spread out)"
   ]
  },
  {
   "cell_type": "markdown",
   "id": "96c9c12e-454d-4b87-85bf-ad9a7d9db8f3",
   "metadata": {},
   "source": [
    "clustered"
   ]
  },
  {
   "cell_type": "code",
   "execution_count": null,
   "id": "20116d38-d3a8-4bc5-a9bb-74b1382c8272",
   "metadata": {},
   "outputs": [],
   "source": [
    "import random\n",
    "list = []\n",
    "for i in range(10000000000):\n",
    "    rand = random.random()\n",
    "    list.append(rand)\n",
    "\n",
    "import matplotlib.pyplot as plt\n",
    "plt.scatter(list, list)\n",
    "plt.xlim(0,1)\n",
    "plt.ylim(0,1)\n",
    "max(list)"
   ]
  },
  {
   "cell_type": "markdown",
   "id": "cd632428-c81b-44ac-b4f5-350a7030fc85",
   "metadata": {},
   "source": [
    "8) Run ***random.randint(1,10)*** multiple times. Based on the results, describe:\n",
    "\n",
    "a) the range of numbers returned by the ***randint*** function"
   ]
  },
  {
   "cell_type": "markdown",
   "id": "6eb80488-2ea7-4329-b8a2-081d9fadba4b",
   "metadata": {},
   "source": []
  },
  {
   "cell_type": "markdown",
   "id": "31293c57-00d8-4fe9-85dc-a49ed4f449a4",
   "metadata": {},
   "source": [
    "b) the nature of the distribution of numbers generated. (Is the distribution clustered or spread out)"
   ]
  },
  {
   "cell_type": "markdown",
   "id": "445d32f3-64f8-4688-9c47-71845c101425",
   "metadata": {},
   "source": []
  }
 ],
 "metadata": {
  "kernelspec": {
   "display_name": "Python 3 (ipykernel)",
   "language": "python",
   "name": "python3"
  },
  "language_info": {
   "codemirror_mode": {
    "name": "ipython",
    "version": 3
   },
   "file_extension": ".py",
   "mimetype": "text/x-python",
   "name": "python",
   "nbconvert_exporter": "python",
   "pygments_lexer": "ipython3",
   "version": "3.11.13"
  }
 },
 "nbformat": 4,
 "nbformat_minor": 5
}
