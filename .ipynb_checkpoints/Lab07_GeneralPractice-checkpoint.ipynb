{
 "cells": [
  {
   "cell_type": "markdown",
   "id": "9de2c1e4-dca8-4b0b-b579-e9ec25d6d6b5",
   "metadata": {},
   "source": [
    "# Practice"
   ]
  },
  {
   "cell_type": "markdown",
   "id": "897331c1-03d2-47ad-9a50-1fa61972c3db",
   "metadata": {},
   "source": [
    "# Content Learning Objectives\n",
    "* Practice with everything"
   ]
  },
  {
   "cell_type": "markdown",
   "id": "f921aed5-7747-481b-bd38-03ccf4997c7a",
   "metadata": {},
   "source": [
    "# Task\n",
    "Below there are a few functions that will complete a specific task. The function definition will be given to you with the parameters unique to that function. Follow the requirements listed to write the complete function. Once you are done writing the function, run the provided test cases to see if your function works correctly."
   ]
  },
  {
   "cell_type": "markdown",
   "id": "42d65413-8093-49bc-9320-4ffe3737b258",
   "metadata": {},
   "source": [
    "# Function 1: Atmospheric Stability\n",
    "\n",
    "When an air parcel temperature is compared to the environmental temperature you can determine its stability. If the parcel temperature is cooler than or equal to the environmental temperature, the air is stable. If the parcel temperature is warmer than the environmental temperature, the air is unstable.\n",
    "\n",
    "### Requirements\n",
    "\n",
    "This function shall:\n",
    "\n",
    "* use an if block\n",
    "* determine if the air is stable or unstable\n",
    "* print whether the air is stable or unstable"
   ]
  },
  {
   "cell_type": "code",
   "execution_count": null,
   "id": "326486db-5979-497d-b604-72e26e7197c1",
   "metadata": {},
   "outputs": [],
   "source": [
    "def stability(parcel_temp, environmental_temp):\n",
    "    #code goes here\n",
    "\n",
    "stability(14, 20)\n",
    "stability(19,17)\n",
    "stability(21,21)"
   ]
  },
  {
   "cell_type": "markdown",
   "id": "e739e31f-2d56-4df7-847d-cc48fb466862",
   "metadata": {},
   "source": [
    "# Function 2: ENSO Classification\n",
    "\n",
    "There are natural variations in the sea surface temperature (SST) of the Pacific Ocean. As the SST changes, it can have effects on global weather patterns through the Oceanic Niño Index (ONI). If the Pacific Ocean is greater than or equal to 0.5 $^o$C warmer than usual then it is an El Niño year. If the Pacific Ocean is greater than or equal to 0.5 $^o$C cooler than usual then it is a La Niña year. Otherwise, it is an ENSO Neutral year.\n",
    "\n",
    "El Niño years are characterized by milder wetter winters in the northeast US, wetter conditions in the south east US, and warmer temperatures in the Pacific North West and Midwest. \n",
    "\n",
    "La Niña years are charcterized by cooler temperatures in the Midwest, wetter weather in the Pacific North West, and drier weather in the south. \n",
    "\n",
    "ENSO Neutral years are charcterized by average weather throughout all of the US. \n",
    "\n",
    "\n",
    "### Requirements\n",
    "This function shall:\n",
    "* use an if/elif/else statement\n",
    "* determine if a given year is an El Niño, La Niña or ENSO Neutral Year\n",
    "* print the expected weather conditions across the US"
   ]
  },
  {
   "cell_type": "code",
   "execution_count": null,
   "id": "38058653-b85f-44ac-b530-3f85cf0b8ae6",
   "metadata": {},
   "outputs": [],
   "source": [
    "def ensoClassification (SST):\n",
    "    # code goes here\n",
    "\n",
    "\n",
    "ensoClassification(0.4)\n",
    "ensoClassification(0.9)\n",
    "ensoClassification(-1.2)\n",
    "ensoClassification(-0.3)"
   ]
  },
  {
   "cell_type": "markdown",
   "id": "595bbeb3-49dd-421f-82a5-396af8355d72",
   "metadata": {},
   "source": [
    "# Function 3: Winds\n",
    "\n",
    "Winds naturally change speed and direction on hourly and daily time scales. In this case, wind direction is given as a string (N, E, S, W) and wind speed is given in kts.\n",
    "\n",
    "### Requirements\n",
    "\n",
    "This function shall:\n",
    "\n",
    "* convert wind direction to a number\n",
    "* calculate the average wind speed\n",
    "* calculate the average wind direction\n",
    "* return the average wind speed and direction"
   ]
  },
  {
   "cell_type": "code",
   "execution_count": null,
   "id": "a20a052f-0074-4d74-91dc-1cccba21c691",
   "metadata": {},
   "outputs": [],
   "source": [
    "dir1 = [12,5,18,9,22,14,7,16,3,11,25,6,19,10,8,2 ]\n",
    "speeds1 = [ 'N','E', 'W','S', 'N', 'E','S', 'W','N',\n",
    "            'E', 'W','S', 'E', 'N','W']\n",
    "\n",
    "dir2 = [5, 8, 12, 6, 14, 9, 20, 11, 7, 16, 10, 18, 22,\n",
    "        13, 4, 15, 19]\n",
    "speeds2 = ['N', 'E', 'S', 'W', 'N', 'E', 'S', 'W', 'N',\n",
    "           'E', 'S', 'W', 'N', 'E', 'S', 'W', 'N']\n",
    "\n",
    "dir3 = [3, 7, 11, 9, 17, 6, 13, 8, 15, 5, 19, 12, 10,\n",
    "        4, 14, 16, 18]\n",
    "speeds3 = ['W', 'S', 'E', 'N', 'W', 'E', 'S', 'N', 'E',\n",
    "           'W', 'S', 'N', 'E', 'S', 'W', 'N', 'E']\n",
    "\n",
    "\n",
    "\n",
    "def avg_winds(directions, speeds):\n",
    "\n",
    "\n",
    "\n",
    "    \n",
    "    return average_speed, average_dir\n",
    "\n",
    "    \n",
    "print(avg_winds(dir1,speeds1))\n",
    "print(avg_winds(dir2,speeds2))\n",
    "print(avg_winds(dir3,speeds3))"
   ]
  },
  {
   "cell_type": "markdown",
   "id": "6255ab68-3c1c-4c44-b84f-797fe1229da1",
   "metadata": {},
   "source": [
    "# Function 4: Relative Humidity\n",
    "\n",
    "Relative Humdity can be calculated by dividing the actual vapor pressure by the saturation vapor pressure and multiplying by 100 to get a percent. \n",
    "\n",
    "This function shall:\n",
    "\n",
    "* calculate relative humidity\n",
    "* return the calculated relative humidity"
   ]
  },
  {
   "cell_type": "code",
   "execution_count": 6,
   "id": "dddfb38e-b962-45c8-afce-7576eb922d56",
   "metadata": {},
   "outputs": [],
   "source": [
    "def RH_calc(vap_press, sat_vap_press):\n",
    "\n",
    "\n",
    "    return relative_humidity\n",
    "\n",
    "print(RH_calc(24, 37))\n",
    "print(RH_calc(13, 13))\n",
    "print(RH_calc(20.1,30))\n"
   ]
  },
  {
   "cell_type": "markdown",
   "id": "693ffd14-afc3-4158-978a-981ad20dd172",
   "metadata": {},
   "source": [
    "# Function 5: Potential Temperature\n",
    "\n",
    "Potential temperature is an estimate for the temperature an air parcel would have if it was moved adiabatically from aloft to a standard pressure, typically 1000 mb. It can be calculated with this equation: $ θ = temp * (starting  pressure / 1000) ^{0.286} $. As an Atmospheric Sciences student, you will explore potential temperature in much more depth later.\n",
    "\n",
    "This function shall:\n",
    "\n",
    "* calculate potential temperature\n",
    "* return calculated potential temperature"
   ]
  },
  {
   "cell_type": "code",
   "execution_count": null,
   "id": "79fc99ea-b0af-470b-9705-fd707f510e19",
   "metadata": {},
   "outputs": [],
   "source": [
    "def potential_temperature(temp, press):\n",
    "\n",
    "    return poten_temp\n",
    "\n",
    "potential_temperature(-20, 300)\n",
    "potential_temperature(-14, 425)\n",
    "potential_temperature(6, 575)"
   ]
  }
 ],
 "metadata": {
  "kernelspec": {
   "display_name": "Python 3 (ipykernel)",
   "language": "python",
   "name": "python3"
  },
  "language_info": {
   "codemirror_mode": {
    "name": "ipython",
    "version": 3
   },
   "file_extension": ".py",
   "mimetype": "text/x-python",
   "name": "python",
   "nbconvert_exporter": "python",
   "pygments_lexer": "ipython3",
   "version": "3.13.5"
  }
 },
 "nbformat": 4,
 "nbformat_minor": 5
}
