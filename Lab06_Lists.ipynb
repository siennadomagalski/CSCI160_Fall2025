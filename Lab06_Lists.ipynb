{
 "cells": [
  {
   "cell_type": "markdown",
   "id": "7ca2a678-11f8-43b8-b917-3ad988931b9f",
   "metadata": {},
   "source": [
    "# Lists\n",
    "Variables can store multiple values in the form of a list. The values are seperated by commas and wrapped in square brackets. \n",
    "\n",
    "Lists have methods, built in functions (see lab 5), that can be called using dot notation. For example, to add a new element other than the end of a list, we can use the ***append*** method."
   ]
  },
  {
   "cell_type": "markdown",
   "id": "efb7be85-4239-4a0f-b15e-072c37ef34cf",
   "metadata": {},
   "source": [
    "# Part 1: List Methods"
   ]
  },
  {
   "cell_type": "markdown",
   "id": "598bdd44-2695-4048-9aa5-9699880f2cb2",
   "metadata": {},
   "source": [
    "|       Python Code       | Shell Output|\n",
    "|-------------------------|-------------|\n",
    "|temps = [56,62,67,64,56] |             |\n",
    "|len(temps)               |             |\n",
    "|print(temps[5])          |             |\n",
    "|temps.append(53)         |             |\n",
    "|dew.append(41)           |             |\n",
    "|dew = []                 |             |\n",
    "|print(dew[0])            |             |\n",
    "|dew.append(41)           |             |\n",
    "|print(dew)               |             |\n",
    "|print(dew[0])            |             |\n",
    "|temps.count(56)          |             |\n",
    "|temps.remove(56)         |             |\n",
    "|print(temps)             |             |\n",
    "|type(temps)              |             |"
   ]
  },
  {
   "cell_type": "markdown",
   "id": "0b1d7e6b-e033-4d11-a5c9-9f3e569f6988",
   "metadata": {},
   "source": [
    "1) What happens when you call the ***append*** method?"
   ]
  },
  {
   "cell_type": "markdown",
   "id": "bdc6f29d-2d87-4342-b6e2-bea5d573e319",
   "metadata": {},
   "source": [
    "adds a new value to the list"
   ]
  },
  {
   "cell_type": "markdown",
   "id": "734bebe8-d704-4d30-bb0f-9f708c92714b",
   "metadata": {},
   "source": [
    "2) What must be defined prior to using a method like ***append***?"
   ]
  },
  {
   "cell_type": "markdown",
   "id": "68b73f19-c59f-4d10-a270-36b2982a4efd",
   "metadata": {},
   "source": [
    "a list "
   ]
  },
  {
   "cell_type": "markdown",
   "id": "f35c1e53-8e6e-469a-b314-6a66469dd5fd",
   "metadata": {},
   "source": [
    "3) Explain why two lines caused and ***IndexError***?"
   ]
  },
  {
   "cell_type": "markdown",
   "id": "f70d294c-fbe2-4c7e-98ce-92a2896b893b",
   "metadata": {},
   "source": [
    "no value at the specifiecd idex"
   ]
  },
  {
   "cell_type": "markdown",
   "id": "3332b395-bb95-4265-af72-1dd8fb6efcc2",
   "metadata": {},
   "source": [
    "4) What happens when you call the ***remove*** method?"
   ]
  },
  {
   "cell_type": "markdown",
   "id": "4ed6ba71-33f6-4e0c-b2e0-7d1b703f4b08",
   "metadata": {},
   "source": [
    "removes first occurance of the specidifed value"
   ]
  },
  {
   "cell_type": "markdown",
   "id": "cf843656-8d91-4165-91af-dbca39a2aba3",
   "metadata": {},
   "source": [
    "7) Describe the syntax similarities between using a list method like ***append*** and a Python built-in function like ***print***."
   ]
  },
  {
   "cell_type": "markdown",
   "id": "ad143093-7fd8-4cd1-b6df-44e459a943ac",
   "metadata": {},
   "source": [
    "name then()"
   ]
  },
  {
   "cell_type": "markdown",
   "id": "c7843f3f-9bc6-4b01-a2ea-f2138114f2f0",
   "metadata": {},
   "source": [
    "8) Complete the function below (two lines are missing). It should prompt the user to as for numbers and build a list one number at a time until the user enters the number 0."
   ]
  },
  {
   "cell_type": "markdown",
   "id": "8c29abd2-d527-4e60-a03f-98b2ca620c85",
   "metadata": {},
   "source": []
  },
  {
   "cell_type": "code",
   "execution_count": 1,
   "id": "77e76179-385b-4a54-b086-59f667a24d7a",
   "metadata": {},
   "outputs": [
    {
     "name": "stdin",
     "output_type": "stream",
     "text": [
      "Enter the first number:  1\n",
      "Enter the next number:  2\n",
      "Enter the next number:  3\n",
      "Enter the next number:  4\n",
      "Enter the next number:  5\n",
      "Enter the next number:  6\n",
      "Enter the next number:  7\n",
      "Enter the next number:  8\n",
      "Enter the next number:  9\n",
      "Enter the next number:  0\n"
     ]
    },
    {
     "name": "stdout",
     "output_type": "stream",
     "text": [
      "[1, 2, 3, 4, 5, 6, 7, 8, 9]\n"
     ]
    }
   ],
   "source": [
    "def input_numbers():\n",
    "    #Add missing line here\n",
    "    numbers = []\n",
    "    x = int(input(\"Enter the first number: \"))\n",
    "    while x != 0:\n",
    "        #Add missing line here\n",
    "        numbers.append(x)\n",
    "        x = int(input(\"Enter the next number: \"))\n",
    "    return numbers\n",
    "\n",
    "vals = input_numbers()\n",
    "print(vals)"
   ]
  },
  {
   "cell_type": "markdown",
   "id": "2e0b6612-0538-4202-a4d1-8645b1590e1d",
   "metadata": {},
   "source": [
    "# Part 2: Lists Indexes"
   ]
  },
  {
   "cell_type": "code",
   "execution_count": 2,
   "id": "6614c159-d107-4195-9adc-92914d6872a7",
   "metadata": {},
   "outputs": [],
   "source": [
    "import random\n",
    "# a list of temperatures throuhgout the day\n",
    "temps = [38,39,42,46,47,49,54,55,56,62,63,67,69,73,74,75,72,66,64,59,56,51,46,44]\n",
    "\n",
    "# a list of times associated with the temperatures\n",
    "times = [\"5:00 am\",\"6:00 am\",\"7:00 am\",\"8:00 am\",\"9:00 am\",\"10:00 am\",\"11:00 am\",\"12:00 pm\",\n",
    "         \"1:00 pm\",\"2:00 pm\",\"3:00 pm\",\"4:00 pm\",\"5:00 pm\",\"6:00 pm\",\"7:00 pm\",\"8:00 pm\",\"9:00 pm\",\n",
    "         \"10:00 pm\",\"11:00 pm\",\"12:00 pm\",\"1:00am\",\"2:00am\",\"3:00am\",\"4:00am\"]"
   ]
  },
  {
   "cell_type": "markdown",
   "id": "dbb2346e-1716-4b3d-ad70-3b28fdf4891d",
   "metadata": {},
   "source": [
    "9) Write a function, ***avg_temp(temperatures)***, to find and return the average temperature."
   ]
  },
  {
   "cell_type": "code",
   "execution_count": 3,
   "id": "a75e8564-16cd-4992-8442-29f33ae3bfd9",
   "metadata": {},
   "outputs": [
    {
     "name": "stdout",
     "output_type": "stream",
     "text": [
      "56.958333333333336\n"
     ]
    }
   ],
   "source": [
    "def avg_temp(temperatures):\n",
    "    #add code here\n",
    "\n",
    "    sums = 0\n",
    "    for i in range(len(temperatures)):\n",
    "        sums = sums + temperatures[i]\n",
    "    ans = sums / len(temperatures)\n",
    "    return ans\n",
    "avg = avg_temp(temps)\n",
    "print(avg)"
   ]
  },
  {
   "cell_type": "markdown",
   "id": "8f2be550-0b2e-4aa1-b2bb-9a2f4d3c6cbe",
   "metadata": {},
   "source": [
    "10) What is the average temperature rounded to two decimals?"
   ]
  },
  {
   "cell_type": "markdown",
   "id": "efe14f88-b02b-4c4a-bea2-281c94984831",
   "metadata": {},
   "source": [
    "11) Write a function, ***max_temp(temperatures)***, to find and return the maximum temperature and its index."
   ]
  },
  {
   "cell_type": "code",
   "execution_count": 4,
   "id": "42d09617-477f-4602-9ddf-f8bd57baece0",
   "metadata": {},
   "outputs": [
    {
     "name": "stdout",
     "output_type": "stream",
     "text": [
      "75 15\n"
     ]
    }
   ],
   "source": [
    "def max_temp(temperatures):\n",
    "    maximum = -999\n",
    "    for i in range(len(temperatures)):\n",
    "        if temperatures[i] > maximum:\n",
    "            maximum = temperatures[i]\n",
    "            index = i\n",
    "    return maximum, index\n",
    "high_temp, high_index = max_temp(temps)\n",
    "\n",
    "print(high_temp, high_index)"
   ]
  },
  {
   "cell_type": "markdown",
   "id": "c4059267-98eb-4fc4-989d-dfe2a27bf772",
   "metadata": {},
   "source": [
    "12) What time does the maximum temperature occur? Write one line of code to answer this one."
   ]
  },
  {
   "cell_type": "code",
   "execution_count": 11,
   "id": "1a8ab787-36d0-429f-b57f-892eef709d80",
   "metadata": {},
   "outputs": [
    {
     "data": {
      "text/plain": [
       "'5:00 am'"
      ]
     },
     "execution_count": 11,
     "metadata": {},
     "output_type": "execute_result"
    }
   ],
   "source": [
    "times[low_index]"
   ]
  },
  {
   "cell_type": "markdown",
   "id": "b79e9038-92e2-4a4d-a10e-625682109428",
   "metadata": {},
   "source": [
    " "
   ]
  },
  {
   "cell_type": "markdown",
   "id": "fb092064-7b55-49d2-94b5-f1b3cef1ddab",
   "metadata": {},
   "source": [
    "13) Write a function, ***min_temp(temperatures)***, to find and return the minimum temperature and its index."
   ]
  },
  {
   "cell_type": "code",
   "execution_count": 10,
   "id": "e67fe4ce-6c85-424d-b814-cc23c77d76d4",
   "metadata": {},
   "outputs": [
    {
     "name": "stdout",
     "output_type": "stream",
     "text": [
      "0 38\n"
     ]
    }
   ],
   "source": [
    "def min_temp(temperatures):\n",
    "    #add code here\n",
    "    maximum = 999\n",
    "    for i in range(len(temperatures)):\n",
    "        if temperatures[i] < maximum:\n",
    "            maximum = temperatures[i]\n",
    "            index = i\n",
    "    return maximum, index\n",
    "low_temp, low_index = min_temp(temps)\n",
    "print(low_index, low_temp)"
   ]
  },
  {
   "cell_type": "markdown",
   "id": "293f557f-4cf0-45f1-93b8-3c7615889e89",
   "metadata": {},
   "source": [
    "14) What time does the minimum temperature occur? Write one line of code to answer this one."
   ]
  },
  {
   "cell_type": "code",
   "execution_count": 9,
   "id": "54adc588-2209-4322-b815-7787dad22170",
   "metadata": {},
   "outputs": [
    {
     "data": {
      "text/plain": [
       "'5:00 am'"
      ]
     },
     "execution_count": 9,
     "metadata": {},
     "output_type": "execute_result"
    }
   ],
   "source": [
    "times[0]"
   ]
  },
  {
   "cell_type": "markdown",
   "id": "ae1c86c5-aa15-4ad5-8c65-e09f04ee1e91",
   "metadata": {},
   "source": []
  }
 ],
 "metadata": {
  "kernelspec": {
   "display_name": "Python 3 (ipykernel)",
   "language": "python",
   "name": "python3"
  },
  "language_info": {
   "codemirror_mode": {
    "name": "ipython",
    "version": 3
   },
   "file_extension": ".py",
   "mimetype": "text/x-python",
   "name": "python",
   "nbconvert_exporter": "python",
   "pygments_lexer": "ipython3",
   "version": "3.11.13"
  }
 },
 "nbformat": 4,
 "nbformat_minor": 5
}
